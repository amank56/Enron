{
 "cells": [
  {
   "cell_type": "code",
   "execution_count": 2,
   "metadata": {},
   "outputs": [],
   "source": [
    "import pandas as pd"
   ]
  },
  {
   "cell_type": "code",
   "execution_count": 39,
   "metadata": {},
   "outputs": [],
   "source": [
    "ds0=pd.read_csv(\"C:\\\\Dev\\\\Capstone proj\\\\Data collection\\\\enron_outcome\\\\emaildata_100000_0.csv\")\n",
    "ds1=pd.read_csv(\"C:\\\\Dev\\\\Capstone proj\\\\Data collection\\\\enron_outcome\\\\emaildata_100000_1.csv\")\n",
    "ds2=pd.read_csv(\"C:\\\\Dev\\\\Capstone proj\\\\Data collection\\\\enron_outcome\\\\emaildata_100000_2.csv\")\n",
    "ds3=pd.read_csv(\"C:\\\\Dev\\\\Capstone proj\\\\Data collection\\\\enron_outcome\\\\emaildata_100000_3.csv\")\n",
    "ds4=pd.read_csv(\"C:\\\\Dev\\\\Capstone proj\\\\Data collection\\\\enron_outcome\\\\emaildata_100000_4.csv\")\n",
    "ds5=pd.read_csv(\"C:\\\\Dev\\\\Capstone proj\\\\Data collection\\\\enron_outcome\\\\emaildata_100000_5.csv\")\n",
    "frames=[ds0,ds1,ds2,ds3,ds4,ds5]\n",
    "ds=pd.concat(frames)"
   ]
  },
  {
   "cell_type": "code",
   "execution_count": 29,
   "metadata": {},
   "outputs": [],
   "source": [
    "ds=pd.read_csv(\"C:\\\\Dev\\\\Capstone proj\\\\Data collection\\\\email analysis\\\\mywork_email_POI.csv\")"
   ]
  },
  {
   "cell_type": "code",
   "execution_count": 40,
   "metadata": {},
   "outputs": [],
   "source": [
    "ds.rename(columns = {'Unnamed: 0':'ID'}, inplace = True) \n",
    "dt=ds[['ID','date','sender','recipient1','subject','text']]\n"
   ]
  },
  {
   "cell_type": "code",
   "execution_count": 41,
   "metadata": {},
   "outputs": [
    {
     "name": "stdout",
     "output_type": "stream",
     "text": [
      "<class 'pandas.core.frame.DataFrame'>\n",
      "Int64Index: 405968 entries, 0 to 11736\n",
      "Data columns (total 6 columns):\n",
      " #   Column      Non-Null Count   Dtype \n",
      "---  ------      --------------   ----- \n",
      " 0   ID          405968 non-null  int64 \n",
      " 1   date        405968 non-null  object\n",
      " 2   sender      405968 non-null  object\n",
      " 3   recipient1  405968 non-null  object\n",
      " 4   subject     388756 non-null  object\n",
      " 5   text        405968 non-null  object\n",
      "dtypes: int64(1), object(5)\n",
      "memory usage: 21.7+ MB\n"
     ]
    }
   ],
   "source": [
    "#dt=ds\n",
    "dt.info()"
   ]
  },
  {
   "cell_type": "code",
   "execution_count": null,
   "metadata": {},
   "outputs": [],
   "source": [
    "dt.head"
   ]
  },
  {
   "cell_type": "code",
   "execution_count": 42,
   "metadata": {},
   "outputs": [],
   "source": [
    "dt['text']=dt.text.fillna('')\n",
    "dt['sender']=dt.sender.fillna('')\n",
    "\n",
    "dt['date']=dt.date.fillna('')\n",
    "dt['recipient1']=dt.recipient1.fillna('')\n",
    "dt['subject']=dt.subject.fillna('')\n"
   ]
  },
  {
   "cell_type": "code",
   "execution_count": 43,
   "metadata": {},
   "outputs": [],
   "source": [
    "#dt[dt.text.str.contains('here',case=False)]\n",
    "#dt['sender']=dt[dt.sender.str.contains('@enron.com',case=False)]\n",
    "\n",
    "dt=dt.loc[dt.sender.str.contains('@enron.com')]"
   ]
  },
  {
   "cell_type": "code",
   "execution_count": 44,
   "metadata": {},
   "outputs": [],
   "source": [
    "listhit=[' Refused to agree','bad cash',' Upset',' Scam',' makes mistakes',\\\n",
    "         ' undisclosed liabilities',' Leaked',' bad credit','#document retention policy']\n",
    "list=[' Without permission',' Without authorization',' bad credit',\\\n",
    "      ' makes mistakes',' Violation of securities laws',' Refused to accept change', \\\n",
    "     ' Misled',' Misleading',' Mislead',' Leaving your firm',' Leaving this firm',' Lied', \\\n",
    "     ' undisclosed liabilities',' Incorrect information',' depleted',' Full satisfaction', \\\n",
    "     ' Forgery',' Forged',' Forge',' Fee will be waived',' waived',' Failure to follow', \\\n",
    "      ' Failure to agree',' Failure by management to execute',' Failed to follow',' Failed to execute'\n",
    "     ' Failed to adhere to',' Fail to execute',' Equitable remedy',' Embezzle','Deception',\\\n",
    "     ' Deceive', 'Corrective action',' Conflict of interest',' Close the account',\n",
    "      ' Close my account',' Breach',' Bad information',' Angry',' Acted alone',' Abusive',' Abused',\\\n",
    "      ' Consumer product safety',' Shares will be downgraded',' Secret deal',' Private conversation',\\\n",
    "      ' Pre-public',' Not public',' Make a bundle',' Insider',' Expected to announce',\\\n",
    "      ' Do not share',' Earnings report',' Big risk',' Write off',' owe',' Special fees',\\\n",
    "      ' earnings forward',' Off the books',' Not ethical',' will find out',' No inspection',\\\n",
    "      ' Illegal',' Grey area',' Friendly payments',' Failed investment',' leave a trail',\\\n",
    "      ' Do not volunteer information',' Cover up',' Call my cell',' Backdate',' Stock of the decade',\\\n",
    "      ' Now or never',' Talk offline',' Off the record',' Nothing to lose',' Litigate',\\\n",
    "      ' Inside info',' Guarantee',' Fraud',' Tax haven',' Delete this',' LDL',' Refused to agree',\\\n",
    "      ' bad cash',' Upset',' Scam',' makes mistakes',' undisclosed liabilities',' Leaked',\\\n",
    "      ' bad credit','document retention policy']\n",
    "listhit1=['Incorrect information','depleted','Full satisfaction']\n",
    "\n",
    "finaldt=dt[dt['text'].str.lower().apply(lambda x: any([k.lower() in x for k in list]))]\n"
   ]
  },
  {
   "cell_type": "code",
   "execution_count": 45,
   "metadata": {},
   "outputs": [],
   "source": [
    "finaldt=finaldt.drop_duplicates(subset='text', keep=\"first\")\n",
    "#finaldt['date']= pd.to_datetime(finaldt['date']) \n",
    "finaldt=finaldt.sort_values(by='date', ascending=False)\n",
    "finaldt.head()\n",
    "finaldt.to_csv('C:\\\\Dev\\\\Capstone proj\\\\Data collection\\\\email analysis\\\\Enron_All_issues.csv')\n",
    "#finaldt.to_csv('C:\\\\Dev\\\\Capstone proj\\\\Data collection\\\\email analysis\\\\Enron_mail_valid.csv')"
   ]
  },
  {
   "cell_type": "raw",
   "metadata": {},
   "source": []
  }
 ],
 "metadata": {
  "kernelspec": {
   "display_name": "Python 3",
   "language": "python",
   "name": "python3"
  },
  "language_info": {
   "codemirror_mode": {
    "name": "ipython",
    "version": 3
   },
   "file_extension": ".py",
   "mimetype": "text/x-python",
   "name": "python",
   "nbconvert_exporter": "python",
   "pygments_lexer": "ipython3",
   "version": "3.7.6"
  }
 },
 "nbformat": 4,
 "nbformat_minor": 4
}
